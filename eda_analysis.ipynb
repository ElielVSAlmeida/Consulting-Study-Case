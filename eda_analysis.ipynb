{
 "cells": [
  {
   "cell_type": "markdown",
   "id": "30c40249",
   "metadata": {},
   "source": [
    "# Welcome to EDA process\n",
    "\n",
    "### On Mr. Almeida's Analysis in Python as a Study Case\n",
    "\n",
    "Please follow it carefully"
   ]
  },
  {
   "cell_type": "code",
   "execution_count": 1,
   "id": "be4b7c02",
   "metadata": {},
   "outputs": [],
   "source": [
    "# Start of importing the dependencies\n",
    "\n",
    "import numpy as np\n",
    "import pandas as pd\n",
    "import scipy.stats as st\n",
    "import statsmodels as stm\n",
    "import matplotlib.pyplot as plt\n",
    "import seaborn as sns"
   ]
  },
  {
   "cell_type": "code",
   "execution_count": null,
   "id": "cc013125",
   "metadata": {},
   "outputs": [
    {
     "data": {
      "text/html": [
       "<div>\n",
       "<style scoped>\n",
       "    .dataframe tbody tr th:only-of-type {\n",
       "        vertical-align: middle;\n",
       "    }\n",
       "\n",
       "    .dataframe tbody tr th {\n",
       "        vertical-align: top;\n",
       "    }\n",
       "\n",
       "    .dataframe thead th {\n",
       "        text-align: right;\n",
       "    }\n",
       "</style>\n",
       "<table border=\"1\" class=\"dataframe\">\n",
       "  <thead>\n",
       "    <tr style=\"text-align: right;\">\n",
       "      <th></th>\n",
       "      <th>customer_number</th>\n",
       "      <th>order_number</th>\n",
       "      <th>date</th>\n",
       "      <th>amount_net</th>\n",
       "      <th>amount_gross</th>\n",
       "    </tr>\n",
       "  </thead>\n",
       "  <tbody>\n",
       "    <tr>\n",
       "      <th>0</th>\n",
       "      <td>62024</td>\n",
       "      <td>62024002</td>\n",
       "      <td>2017-01-07</td>\n",
       "      <td>325.40</td>\n",
       "      <td>377.46</td>\n",
       "    </tr>\n",
       "    <tr>\n",
       "      <th>1</th>\n",
       "      <td>83769</td>\n",
       "      <td>83769002</td>\n",
       "      <td>2017-01-08</td>\n",
       "      <td>1623.10</td>\n",
       "      <td>1882.80</td>\n",
       "    </tr>\n",
       "    <tr>\n",
       "      <th>2</th>\n",
       "      <td>103369</td>\n",
       "      <td>103369002</td>\n",
       "      <td>2017-01-08</td>\n",
       "      <td>2955.57</td>\n",
       "      <td>3428.46</td>\n",
       "    </tr>\n",
       "    <tr>\n",
       "      <th>3</th>\n",
       "      <td>72909</td>\n",
       "      <td>72909002</td>\n",
       "      <td>2017-01-09</td>\n",
       "      <td>122.36</td>\n",
       "      <td>141.94</td>\n",
       "    </tr>\n",
       "    <tr>\n",
       "      <th>4</th>\n",
       "      <td>72609</td>\n",
       "      <td>72609002</td>\n",
       "      <td>2017-01-10</td>\n",
       "      <td>2052.34</td>\n",
       "      <td>2380.72</td>\n",
       "    </tr>\n",
       "    <tr>\n",
       "      <th>...</th>\n",
       "      <td>...</td>\n",
       "      <td>...</td>\n",
       "      <td>...</td>\n",
       "      <td>...</td>\n",
       "      <td>...</td>\n",
       "    </tr>\n",
       "    <tr>\n",
       "      <th>11383</th>\n",
       "      <td>62724</td>\n",
       "      <td>62724002</td>\n",
       "      <td>2020-12-20</td>\n",
       "      <td>2789.09</td>\n",
       "      <td>3235.35</td>\n",
       "    </tr>\n",
       "    <tr>\n",
       "      <th>11384</th>\n",
       "      <td>75494</td>\n",
       "      <td>75494002</td>\n",
       "      <td>2020-12-20</td>\n",
       "      <td>1290.82</td>\n",
       "      <td>1497.35</td>\n",
       "    </tr>\n",
       "    <tr>\n",
       "      <th>11385</th>\n",
       "      <td>89514</td>\n",
       "      <td>89514002</td>\n",
       "      <td>2020-12-20</td>\n",
       "      <td>1704.22</td>\n",
       "      <td>1976.90</td>\n",
       "    </tr>\n",
       "    <tr>\n",
       "      <th>11386</th>\n",
       "      <td>98054</td>\n",
       "      <td>98054002</td>\n",
       "      <td>2020-12-20</td>\n",
       "      <td>3204.48</td>\n",
       "      <td>3717.20</td>\n",
       "    </tr>\n",
       "    <tr>\n",
       "      <th>11387</th>\n",
       "      <td>103044</td>\n",
       "      <td>103044002</td>\n",
       "      <td>2020-12-20</td>\n",
       "      <td>1635.80</td>\n",
       "      <td>1897.53</td>\n",
       "    </tr>\n",
       "  </tbody>\n",
       "</table>\n",
       "<p>11388 rows × 5 columns</p>\n",
       "</div>"
      ],
      "text/plain": [
       "       customer_number  order_number       date  amount_net  amount_gross\n",
       "0                62024      62024002 2017-01-07      325.40        377.46\n",
       "1                83769      83769002 2017-01-08     1623.10       1882.80\n",
       "2               103369     103369002 2017-01-08     2955.57       3428.46\n",
       "3                72909      72909002 2017-01-09      122.36        141.94\n",
       "4                72609      72609002 2017-01-10     2052.34       2380.72\n",
       "...                ...           ...        ...         ...           ...\n",
       "11383            62724      62724002 2020-12-20     2789.09       3235.35\n",
       "11384            75494      75494002 2020-12-20     1290.82       1497.35\n",
       "11385            89514      89514002 2020-12-20     1704.22       1976.90\n",
       "11386            98054      98054002 2020-12-20     3204.48       3717.20\n",
       "11387           103044     103044002 2020-12-20     1635.80       1897.53\n",
       "\n",
       "[11388 rows x 5 columns]"
      ]
     },
     "execution_count": 7,
     "metadata": {},
     "output_type": "execute_result"
    }
   ],
   "source": [
    "# Importing the sheets on the excel\n",
    "\n",
    "df_orders = pd.read_excel(r'home365_export_data_del_inv_ord.xlsx', 'Orders')\n",
    "df_delivery = pd.read_excel(r'home365_export_data_del_inv_ord.xlsx', 'Delivery_lines')\n",
    "df_invoices = pd.read_excel(r'home365_export_data_del_inv_ord.xlsx', 'Invoices')"
   ]
  },
  {
   "cell_type": "markdown",
   "id": "4ed78458",
   "metadata": {},
   "source": [
    "#### Starting the Data Wrangling and Cleaning"
   ]
  },
  {
   "cell_type": "code",
   "execution_count": null,
   "id": "a564d65b",
   "metadata": {},
   "outputs": [
    {
     "data": {
      "text/plain": [
       "('For orders',\n",
       " customer_number    0\n",
       " order_number       0\n",
       " date               0\n",
       " number_of_items    0\n",
       " total              0\n",
       " dtype: int64,\n",
       " 'For deleivery',\n",
       " customer_number     0\n",
       " order_id            0\n",
       " delivery_id         0\n",
       " product_id          0\n",
       " date                0\n",
       " number_of_pieces    0\n",
       " dtype: int64,\n",
       " 'For invoices',\n",
       " customer_number     0\n",
       " order_id            0\n",
       " delivery_id         0\n",
       " product_id          0\n",
       " date                0\n",
       " number_of_pieces    0\n",
       " dtype: int64)"
      ]
     },
     "execution_count": 13,
     "metadata": {},
     "output_type": "execute_result"
    }
   ],
   "source": [
    "# Check on if there are null values\n",
    "\n",
    "'For orders', df_orders.isna().sum(),'For deleivery', df_delivery.isna().sum(), 'For invoices', df_delivery.isna().sum()"
   ]
  },
  {
   "cell_type": "code",
   "execution_count": 14,
   "id": "ce2dcee0",
   "metadata": {},
   "outputs": [
    {
     "data": {
      "text/plain": [
       "('For orders',\n",
       " np.int64(0),\n",
       " 'For deleivery',\n",
       " np.int64(0),\n",
       " 'For invoices',\n",
       " np.int64(0))"
      ]
     },
     "execution_count": 14,
     "metadata": {},
     "output_type": "execute_result"
    }
   ],
   "source": [
    "# Check on if there are duplicates\n",
    "\n",
    "'For orders', df_orders.duplicated().sum(),'For deleivery', df_delivery.duplicated().sum(), 'For invoices', df_delivery.duplicated().sum()"
   ]
  },
  {
   "cell_type": "code",
   "execution_count": null,
   "id": "0a9a1063",
   "metadata": {},
   "outputs": [
    {
     "data": {
      "text/plain": [
       "('For orders',\n",
       " customer_number             int64\n",
       " order_number                int64\n",
       " date               datetime64[ns]\n",
       " number_of_items             int64\n",
       " total                     float64\n",
       " dtype: object,\n",
       " 'For deleivery',\n",
       " customer_number              int64\n",
       " order_id                     int64\n",
       " delivery_id                 object\n",
       " product_id                   int64\n",
       " date                datetime64[ns]\n",
       " number_of_pieces             int64\n",
       " dtype: object,\n",
       " 'For invoices',\n",
       " customer_number              int64\n",
       " order_id                     int64\n",
       " delivery_id                 object\n",
       " product_id                   int64\n",
       " date                datetime64[ns]\n",
       " number_of_pieces             int64\n",
       " dtype: object)"
      ]
     },
     "execution_count": 17,
     "metadata": {},
     "output_type": "execute_result"
    }
   ],
   "source": [
    "# Observing the data types\n",
    "\n",
    "'For orders', df_orders.dtypes,'For deleivery', df_delivery.dtypes, 'For invoices', df_delivery.dtypes"
   ]
  },
  {
   "cell_type": "markdown",
   "id": "27c0c971",
   "metadata": {},
   "source": [
    "The present itself as clean"
   ]
  },
  {
   "cell_type": "markdown",
   "id": "9f3e9d6e",
   "metadata": {},
   "source": [
    "### It is time to answear the questions\n",
    "\n"
   ]
  },
  {
   "cell_type": "markdown",
   "id": "e5be12c8",
   "metadata": {},
   "source": [
    "##### Task 1: How much revenue did we make each month in 2020 compared to the previous two years?\n",
    "\n",
    "To answer take we should look into invoices since the ordering is not a indicator of revenue."
   ]
  },
  {
   "cell_type": "code",
   "execution_count": null,
   "id": "55f1a863",
   "metadata": {},
   "outputs": [
    {
     "data": {
      "text/html": [
       "<div>\n",
       "<style scoped>\n",
       "    .dataframe tbody tr th:only-of-type {\n",
       "        vertical-align: middle;\n",
       "    }\n",
       "\n",
       "    .dataframe tbody tr th {\n",
       "        vertical-align: top;\n",
       "    }\n",
       "\n",
       "    .dataframe thead th {\n",
       "        text-align: right;\n",
       "    }\n",
       "</style>\n",
       "<table border=\"1\" class=\"dataframe\">\n",
       "  <thead>\n",
       "    <tr style=\"text-align: right;\">\n",
       "      <th></th>\n",
       "      <th>customer_number</th>\n",
       "      <th>order_number</th>\n",
       "      <th>date</th>\n",
       "      <th>amount_net</th>\n",
       "      <th>amount_gross</th>\n",
       "    </tr>\n",
       "  </thead>\n",
       "  <tbody>\n",
       "    <tr>\n",
       "      <th>0</th>\n",
       "      <td>62024</td>\n",
       "      <td>62024002</td>\n",
       "      <td>2017-01-07</td>\n",
       "      <td>325.40</td>\n",
       "      <td>377.46</td>\n",
       "    </tr>\n",
       "    <tr>\n",
       "      <th>1</th>\n",
       "      <td>83769</td>\n",
       "      <td>83769002</td>\n",
       "      <td>2017-01-08</td>\n",
       "      <td>1623.10</td>\n",
       "      <td>1882.80</td>\n",
       "    </tr>\n",
       "    <tr>\n",
       "      <th>2</th>\n",
       "      <td>103369</td>\n",
       "      <td>103369002</td>\n",
       "      <td>2017-01-08</td>\n",
       "      <td>2955.57</td>\n",
       "      <td>3428.46</td>\n",
       "    </tr>\n",
       "    <tr>\n",
       "      <th>3</th>\n",
       "      <td>72909</td>\n",
       "      <td>72909002</td>\n",
       "      <td>2017-01-09</td>\n",
       "      <td>122.36</td>\n",
       "      <td>141.94</td>\n",
       "    </tr>\n",
       "    <tr>\n",
       "      <th>4</th>\n",
       "      <td>72609</td>\n",
       "      <td>72609002</td>\n",
       "      <td>2017-01-10</td>\n",
       "      <td>2052.34</td>\n",
       "      <td>2380.72</td>\n",
       "    </tr>\n",
       "    <tr>\n",
       "      <th>...</th>\n",
       "      <td>...</td>\n",
       "      <td>...</td>\n",
       "      <td>...</td>\n",
       "      <td>...</td>\n",
       "      <td>...</td>\n",
       "    </tr>\n",
       "    <tr>\n",
       "      <th>11383</th>\n",
       "      <td>62724</td>\n",
       "      <td>62724002</td>\n",
       "      <td>2020-12-20</td>\n",
       "      <td>2789.09</td>\n",
       "      <td>3235.35</td>\n",
       "    </tr>\n",
       "    <tr>\n",
       "      <th>11384</th>\n",
       "      <td>75494</td>\n",
       "      <td>75494002</td>\n",
       "      <td>2020-12-20</td>\n",
       "      <td>1290.82</td>\n",
       "      <td>1497.35</td>\n",
       "    </tr>\n",
       "    <tr>\n",
       "      <th>11385</th>\n",
       "      <td>89514</td>\n",
       "      <td>89514002</td>\n",
       "      <td>2020-12-20</td>\n",
       "      <td>1704.22</td>\n",
       "      <td>1976.90</td>\n",
       "    </tr>\n",
       "    <tr>\n",
       "      <th>11386</th>\n",
       "      <td>98054</td>\n",
       "      <td>98054002</td>\n",
       "      <td>2020-12-20</td>\n",
       "      <td>3204.48</td>\n",
       "      <td>3717.20</td>\n",
       "    </tr>\n",
       "    <tr>\n",
       "      <th>11387</th>\n",
       "      <td>103044</td>\n",
       "      <td>103044002</td>\n",
       "      <td>2020-12-20</td>\n",
       "      <td>1635.80</td>\n",
       "      <td>1897.53</td>\n",
       "    </tr>\n",
       "  </tbody>\n",
       "</table>\n",
       "<p>11388 rows × 5 columns</p>\n",
       "</div>"
      ],
      "text/plain": [
       "       customer_number  order_number       date  amount_net  amount_gross\n",
       "0                62024      62024002 2017-01-07      325.40        377.46\n",
       "1                83769      83769002 2017-01-08     1623.10       1882.80\n",
       "2               103369     103369002 2017-01-08     2955.57       3428.46\n",
       "3                72909      72909002 2017-01-09      122.36        141.94\n",
       "4                72609      72609002 2017-01-10     2052.34       2380.72\n",
       "...                ...           ...        ...         ...           ...\n",
       "11383            62724      62724002 2020-12-20     2789.09       3235.35\n",
       "11384            75494      75494002 2020-12-20     1290.82       1497.35\n",
       "11385            89514      89514002 2020-12-20     1704.22       1976.90\n",
       "11386            98054      98054002 2020-12-20     3204.48       3717.20\n",
       "11387           103044     103044002 2020-12-20     1635.80       1897.53\n",
       "\n",
       "[11388 rows x 5 columns]"
      ]
     },
     "execution_count": 19,
     "metadata": {},
     "output_type": "execute_result"
    }
   ],
   "source": [
    "# Taking a look at df\n",
    "\n",
    "df_invoices"
   ]
  },
  {
   "cell_type": "code",
   "execution_count": null,
   "id": "3873997e",
   "metadata": {},
   "outputs": [
    {
     "data": {
      "text/plain": [
       "date\n",
       "2017    2616\n",
       "2018    2969\n",
       "2019    2948\n",
       "2020    2855\n",
       "dtype: int64"
      ]
     },
     "execution_count": 30,
     "metadata": {},
     "output_type": "execute_result"
    }
   ],
   "source": [
    "# Grouping by Year\n",
    "\n",
    "df_task1 = df_invoices.groupby(df_invoices['date'].dt.year)\n",
    "df_task1.size()"
   ]
  },
  {
   "cell_type": "markdown",
   "id": "782f2071",
   "metadata": {},
   "source": [
    "With that we can take a look at the each month and sum it up to compare."
   ]
  },
  {
   "cell_type": "code",
   "execution_count": 39,
   "id": "d7ee8678",
   "metadata": {},
   "outputs": [
    {
     "name": "stdout",
     "output_type": "stream",
     "text": [
      "Revenue for 2018: date\n",
      "1     352585.94\n",
      "2     323090.38\n",
      "3     389396.98\n",
      "4     348901.69\n",
      "5     364757.41\n",
      "6     346587.81\n",
      "7     382288.01\n",
      "8     391304.33\n",
      "9     390053.42\n",
      "10    349977.77\n",
      "11    394713.32\n",
      "12    342655.56\n",
      "Name: amount_gross, dtype: float64 \n",
      "Revenue for 2019: date\n",
      "1     364864.97\n",
      "2     395372.34\n",
      "3     394313.57\n",
      "4     418011.43\n",
      "5     409130.04\n",
      "6     377449.69\n",
      "7     397765.10\n",
      "8     418603.55\n",
      "9     377536.62\n",
      "10    342471.99\n",
      "11    393100.28\n",
      "12    370376.32\n",
      "Name: amount_gross, dtype: float64 \n",
      "Revenue for 2020: date\n",
      "1     398709.66\n",
      "2     380669.84\n",
      "3     379896.94\n",
      "4     392422.82\n",
      "5     376513.61\n",
      "6     415059.30\n",
      "7     358820.91\n",
      "8     384835.38\n",
      "9     328466.42\n",
      "10    376105.54\n",
      "11    386775.36\n",
      "12    222280.63\n",
      "Name: amount_gross, dtype: float64\n"
     ]
    }
   ],
   "source": [
    "# Now we can visualize the month revenue\n",
    "\n",
    "revenue_2020 = df_task1.get_group(2020).groupby(df_invoices['date'].dt.month)['amount_gross'].agg('sum')\n",
    "revenue_2018 = df_task1.get_group(2018).groupby(df_invoices['date'].dt.month)['amount_gross'].agg('sum')\n",
    "revenue_2019 = df_task1.get_group(2019).groupby(df_invoices['date'].dt.month)['amount_gross'].agg('sum')\n",
    "\n",
    "print(f'Revenue for 2018: {revenue_2018} \\nRevenue for 2019: {revenue_2019} \\nRevenue for 2020: {revenue_2020}')"
   ]
  },
  {
   "cell_type": "markdown",
   "id": "049da24f",
   "metadata": {},
   "source": [
    "Create the data frame with the answer needed."
   ]
  },
  {
   "cell_type": "code",
   "execution_count": null,
   "id": "5b1bf3cd",
   "metadata": {},
   "outputs": [
    {
     "data": {
      "text/html": [
       "<div>\n",
       "<style scoped>\n",
       "    .dataframe tbody tr th:only-of-type {\n",
       "        vertical-align: middle;\n",
       "    }\n",
       "\n",
       "    .dataframe tbody tr th {\n",
       "        vertical-align: top;\n",
       "    }\n",
       "\n",
       "    .dataframe thead th {\n",
       "        text-align: right;\n",
       "    }\n",
       "</style>\n",
       "<table border=\"1\" class=\"dataframe\">\n",
       "  <thead>\n",
       "    <tr style=\"text-align: right;\">\n",
       "      <th></th>\n",
       "      <th>2018</th>\n",
       "      <th>2019</th>\n",
       "      <th>2020</th>\n",
       "      <th>total_diff_vs2018</th>\n",
       "      <th>total_diff_vs2019</th>\n",
       "      <th>percent_change_vs2018</th>\n",
       "      <th>percent_change_vs2019</th>\n",
       "    </tr>\n",
       "    <tr>\n",
       "      <th>date</th>\n",
       "      <th></th>\n",
       "      <th></th>\n",
       "      <th></th>\n",
       "      <th></th>\n",
       "      <th></th>\n",
       "      <th></th>\n",
       "      <th></th>\n",
       "    </tr>\n",
       "  </thead>\n",
       "  <tbody>\n",
       "    <tr>\n",
       "      <th>1</th>\n",
       "      <td>352585.94</td>\n",
       "      <td>364864.97</td>\n",
       "      <td>398709.66</td>\n",
       "      <td>46123.72</td>\n",
       "      <td>33844.69</td>\n",
       "      <td>13.08</td>\n",
       "      <td>9.28</td>\n",
       "    </tr>\n",
       "    <tr>\n",
       "      <th>2</th>\n",
       "      <td>323090.38</td>\n",
       "      <td>395372.34</td>\n",
       "      <td>380669.84</td>\n",
       "      <td>57579.46</td>\n",
       "      <td>-14702.50</td>\n",
       "      <td>17.82</td>\n",
       "      <td>-3.72</td>\n",
       "    </tr>\n",
       "    <tr>\n",
       "      <th>3</th>\n",
       "      <td>389396.98</td>\n",
       "      <td>394313.57</td>\n",
       "      <td>379896.94</td>\n",
       "      <td>-9500.04</td>\n",
       "      <td>-14416.63</td>\n",
       "      <td>-2.44</td>\n",
       "      <td>-3.66</td>\n",
       "    </tr>\n",
       "    <tr>\n",
       "      <th>4</th>\n",
       "      <td>348901.69</td>\n",
       "      <td>418011.43</td>\n",
       "      <td>392422.82</td>\n",
       "      <td>43521.13</td>\n",
       "      <td>-25588.61</td>\n",
       "      <td>12.47</td>\n",
       "      <td>-6.12</td>\n",
       "    </tr>\n",
       "    <tr>\n",
       "      <th>5</th>\n",
       "      <td>364757.41</td>\n",
       "      <td>409130.04</td>\n",
       "      <td>376513.61</td>\n",
       "      <td>11756.20</td>\n",
       "      <td>-32616.43</td>\n",
       "      <td>3.22</td>\n",
       "      <td>-7.97</td>\n",
       "    </tr>\n",
       "    <tr>\n",
       "      <th>6</th>\n",
       "      <td>346587.81</td>\n",
       "      <td>377449.69</td>\n",
       "      <td>415059.30</td>\n",
       "      <td>68471.49</td>\n",
       "      <td>37609.61</td>\n",
       "      <td>19.76</td>\n",
       "      <td>9.96</td>\n",
       "    </tr>\n",
       "    <tr>\n",
       "      <th>7</th>\n",
       "      <td>382288.01</td>\n",
       "      <td>397765.10</td>\n",
       "      <td>358820.91</td>\n",
       "      <td>-23467.10</td>\n",
       "      <td>-38944.19</td>\n",
       "      <td>-6.14</td>\n",
       "      <td>-9.79</td>\n",
       "    </tr>\n",
       "    <tr>\n",
       "      <th>8</th>\n",
       "      <td>391304.33</td>\n",
       "      <td>418603.55</td>\n",
       "      <td>384835.38</td>\n",
       "      <td>-6468.95</td>\n",
       "      <td>-33768.17</td>\n",
       "      <td>-1.65</td>\n",
       "      <td>-8.07</td>\n",
       "    </tr>\n",
       "    <tr>\n",
       "      <th>9</th>\n",
       "      <td>390053.42</td>\n",
       "      <td>377536.62</td>\n",
       "      <td>328466.42</td>\n",
       "      <td>-61587.00</td>\n",
       "      <td>-49070.20</td>\n",
       "      <td>-15.79</td>\n",
       "      <td>-13.00</td>\n",
       "    </tr>\n",
       "    <tr>\n",
       "      <th>10</th>\n",
       "      <td>349977.77</td>\n",
       "      <td>342471.99</td>\n",
       "      <td>376105.54</td>\n",
       "      <td>26127.77</td>\n",
       "      <td>33633.55</td>\n",
       "      <td>7.47</td>\n",
       "      <td>9.82</td>\n",
       "    </tr>\n",
       "    <tr>\n",
       "      <th>11</th>\n",
       "      <td>394713.32</td>\n",
       "      <td>393100.28</td>\n",
       "      <td>386775.36</td>\n",
       "      <td>-7937.96</td>\n",
       "      <td>-6324.92</td>\n",
       "      <td>-2.01</td>\n",
       "      <td>-1.61</td>\n",
       "    </tr>\n",
       "    <tr>\n",
       "      <th>12</th>\n",
       "      <td>342655.56</td>\n",
       "      <td>370376.32</td>\n",
       "      <td>222280.63</td>\n",
       "      <td>-120374.93</td>\n",
       "      <td>-148095.69</td>\n",
       "      <td>-35.13</td>\n",
       "      <td>-39.99</td>\n",
       "    </tr>\n",
       "  </tbody>\n",
       "</table>\n",
       "</div>"
      ],
      "text/plain": [
       "           2018       2019       2020  total_diff_vs2018  total_diff_vs2019  \\\n",
       "date                                                                          \n",
       "1     352585.94  364864.97  398709.66           46123.72           33844.69   \n",
       "2     323090.38  395372.34  380669.84           57579.46          -14702.50   \n",
       "3     389396.98  394313.57  379896.94           -9500.04          -14416.63   \n",
       "4     348901.69  418011.43  392422.82           43521.13          -25588.61   \n",
       "5     364757.41  409130.04  376513.61           11756.20          -32616.43   \n",
       "6     346587.81  377449.69  415059.30           68471.49           37609.61   \n",
       "7     382288.01  397765.10  358820.91          -23467.10          -38944.19   \n",
       "8     391304.33  418603.55  384835.38           -6468.95          -33768.17   \n",
       "9     390053.42  377536.62  328466.42          -61587.00          -49070.20   \n",
       "10    349977.77  342471.99  376105.54           26127.77           33633.55   \n",
       "11    394713.32  393100.28  386775.36           -7937.96           -6324.92   \n",
       "12    342655.56  370376.32  222280.63         -120374.93         -148095.69   \n",
       "\n",
       "      percent_change_vs2018  percent_change_vs2019  \n",
       "date                                                \n",
       "1                     13.08                   9.28  \n",
       "2                     17.82                  -3.72  \n",
       "3                     -2.44                  -3.66  \n",
       "4                     12.47                  -6.12  \n",
       "5                      3.22                  -7.97  \n",
       "6                     19.76                   9.96  \n",
       "7                     -6.14                  -9.79  \n",
       "8                     -1.65                  -8.07  \n",
       "9                    -15.79                 -13.00  \n",
       "10                     7.47                   9.82  \n",
       "11                    -2.01                  -1.61  \n",
       "12                   -35.13                 -39.99  "
      ]
     },
     "execution_count": 49,
     "metadata": {},
     "output_type": "execute_result"
    }
   ],
   "source": [
    "# Having the data frame with the answer\n",
    "\n",
    "df_revenue = pd.DataFrame([revenue_2018, revenue_2019, revenue_2020], index=[2018, 2019, 2020]).T\n",
    "df_revenue['total_diff_vs2018'] = df_revenue[2020] - df_revenue[2018]\n",
    "df_revenue['total_diff_vs2019'] = df_revenue[2020] - df_revenue[2019]\n",
    "df_revenue['percent_change_vs2018'] = round((df_revenue['total_diff_vs2018'] / df_revenue[2018]) * 100, 2)\n",
    "df_revenue['percent_change_vs2019'] = round((df_revenue['total_diff_vs2019'] / df_revenue[2019]) * 100, 2)\n",
    "df_revenue\n"
   ]
  },
  {
   "cell_type": "code",
   "execution_count": null,
   "id": "08605b8b",
   "metadata": {},
   "outputs": [
    {
     "data": {
      "text/plain": [
       "<Axes: xlabel='date', ylabel='percent_change_vs2018'>"
      ]
     },
     "execution_count": 115,
     "metadata": {},
     "output_type": "execute_result"
    },
    {
     "data": {
      "image/png": "[encoded data removed]",
      "text/plain": [
       "<Figure size 640x480 with 1 Axes>"
      ]
     },
     "metadata": {},
     "output_type": "display_data"
    }
   ],
   "source": [
    "# 2018 Bar plots\n",
    "\n",
    "sns.barplot(x=df_revenue.index, y=df_revenue.percent_change_vs2018)"
   ]
  },
  {
   "cell_type": "code",
   "execution_count": 116,
   "id": "851d4d82",
   "metadata": {},
   "outputs": [
    {
     "data": {
      "text/plain": [
       "<Axes: xlabel='date', ylabel='percent_change_vs2019'>"
      ]
     },
     "execution_count": 116,
     "metadata": {},
     "output_type": "execute_result"
    },
    {
     "data": {
      "image/png": "[encoded data removed]",
      "text/plain": [
       "<Figure size 640x480 with 1 Axes>"
      ]
     },
     "metadata": {},
     "output_type": "display_data"
    }
   ],
   "source": [
    "# 2019 Bar plots\n",
    "\n",
    "sns.barplot(x=df_revenue.index, y=df_revenue.percent_change_vs2019)"
   ]
  },
  {
   "cell_type": "markdown",
   "id": "70ad2b41",
   "metadata": {},
   "source": [
    "We have our answer by month in total value and percent change."
   ]
  },
  {
   "cell_type": "code",
   "execution_count": 118,
   "id": "f7c95f9a",
   "metadata": {},
   "outputs": [
    {
     "name": "stderr",
     "output_type": "stream",
     "text": [
      "<>:3: SyntaxWarning: invalid escape sequence '\\T'\n",
      "<>:3: SyntaxWarning: invalid escape sequence '\\T'\n",
      "C:\\Users\\EVSDA\\AppData\\Local\\Temp\\ipykernel_20460\\4209816534.py:3: SyntaxWarning: invalid escape sequence '\\T'\n",
      "  df_revenue.to_excel('data\\Task1_Answer.xlsx', 'Task1_Answer')\n",
      "C:\\Users\\EVSDA\\AppData\\Local\\Temp\\ipykernel_20460\\4209816534.py:3: FutureWarning: Starting with pandas version 3.0 all arguments of to_excel except for the argument 'excel_writer' will be keyword-only.\n",
      "  df_revenue.to_excel('data\\Task1_Answer.xlsx', 'Task1_Answer')\n"
     ]
    }
   ],
   "source": [
    "# Exporting\n",
    "\n",
    "df_revenue.to_excel('data\\Task1_Answer.xlsx', 'Task1_Answer')"
   ]
  },
  {
   "cell_type": "markdown",
   "id": "e03fff5c",
   "metadata": {},
   "source": [
    "##### Task 2: How many of our orders from 2020 have already been invoiced?\n",
    "\n",
    "Lets merge each order number from each table..."
   ]
  },
  {
   "cell_type": "code",
   "execution_count": null,
   "id": "2f7b76f5",
   "metadata": {},
   "outputs": [
    {
     "data": {
      "text/plain": [
       "date\n",
       "2017    2616\n",
       "2018    2969\n",
       "2019    2948\n",
       "2020    2855\n",
       "dtype: int64"
      ]
     },
     "execution_count": 50,
     "metadata": {},
     "output_type": "execute_result"
    }
   ],
   "source": [
    "# First I get the orders by year\n",
    "\n",
    "df_task2 = df_orders.groupby(df_orders['date'].dt.year)\n",
    "df_task1.size()"
   ]
  },
  {
   "cell_type": "code",
   "execution_count": null,
   "id": "bcbf95be",
   "metadata": {},
   "outputs": [
    {
     "data": {
      "text/html": [
       "<div>\n",
       "<style scoped>\n",
       "    .dataframe tbody tr th:only-of-type {\n",
       "        vertical-align: middle;\n",
       "    }\n",
       "\n",
       "    .dataframe tbody tr th {\n",
       "        vertical-align: top;\n",
       "    }\n",
       "\n",
       "    .dataframe thead th {\n",
       "        text-align: right;\n",
       "    }\n",
       "</style>\n",
       "<table border=\"1\" class=\"dataframe\">\n",
       "  <thead>\n",
       "    <tr style=\"text-align: right;\">\n",
       "      <th></th>\n",
       "      <th>customer_number</th>\n",
       "      <th>order_number</th>\n",
       "      <th>date</th>\n",
       "      <th>number_of_items</th>\n",
       "      <th>total</th>\n",
       "    </tr>\n",
       "  </thead>\n",
       "  <tbody>\n",
       "    <tr>\n",
       "      <th>8837</th>\n",
       "      <td>84219</td>\n",
       "      <td>84219002</td>\n",
       "      <td>2020-01-01</td>\n",
       "      <td>4</td>\n",
       "      <td>2905.04</td>\n",
       "    </tr>\n",
       "    <tr>\n",
       "      <th>8838</th>\n",
       "      <td>54679</td>\n",
       "      <td>54679002</td>\n",
       "      <td>2020-01-02</td>\n",
       "      <td>3</td>\n",
       "      <td>1707.36</td>\n",
       "    </tr>\n",
       "    <tr>\n",
       "      <th>8839</th>\n",
       "      <td>73039</td>\n",
       "      <td>73039002</td>\n",
       "      <td>2020-01-02</td>\n",
       "      <td>6</td>\n",
       "      <td>3478.62</td>\n",
       "    </tr>\n",
       "    <tr>\n",
       "      <th>8840</th>\n",
       "      <td>74404</td>\n",
       "      <td>74404002</td>\n",
       "      <td>2020-01-02</td>\n",
       "      <td>1</td>\n",
       "      <td>412.34</td>\n",
       "    </tr>\n",
       "    <tr>\n",
       "      <th>8841</th>\n",
       "      <td>75584</td>\n",
       "      <td>75584002</td>\n",
       "      <td>2020-01-02</td>\n",
       "      <td>4</td>\n",
       "      <td>2454.16</td>\n",
       "    </tr>\n",
       "    <tr>\n",
       "      <th>...</th>\n",
       "      <td>...</td>\n",
       "      <td>...</td>\n",
       "      <td>...</td>\n",
       "      <td>...</td>\n",
       "      <td>...</td>\n",
       "    </tr>\n",
       "    <tr>\n",
       "      <th>11822</th>\n",
       "      <td>107809</td>\n",
       "      <td>107809002</td>\n",
       "      <td>2020-12-30</td>\n",
       "      <td>5</td>\n",
       "      <td>1528.15</td>\n",
       "    </tr>\n",
       "    <tr>\n",
       "      <th>11823</th>\n",
       "      <td>108254</td>\n",
       "      <td>108254002</td>\n",
       "      <td>2020-12-30</td>\n",
       "      <td>6</td>\n",
       "      <td>2297.64</td>\n",
       "    </tr>\n",
       "    <tr>\n",
       "      <th>11824</th>\n",
       "      <td>111094</td>\n",
       "      <td>111094002</td>\n",
       "      <td>2020-12-30</td>\n",
       "      <td>2</td>\n",
       "      <td>332.28</td>\n",
       "    </tr>\n",
       "    <tr>\n",
       "      <th>11825</th>\n",
       "      <td>69639</td>\n",
       "      <td>69639002</td>\n",
       "      <td>2020-12-31</td>\n",
       "      <td>5</td>\n",
       "      <td>2512.55</td>\n",
       "    </tr>\n",
       "    <tr>\n",
       "      <th>11826</th>\n",
       "      <td>104249</td>\n",
       "      <td>104249002</td>\n",
       "      <td>2020-12-31</td>\n",
       "      <td>4</td>\n",
       "      <td>1490.68</td>\n",
       "    </tr>\n",
       "  </tbody>\n",
       "</table>\n",
       "<p>2990 rows × 5 columns</p>\n",
       "</div>"
      ],
      "text/plain": [
       "       customer_number  order_number       date  number_of_items    total\n",
       "8837             84219      84219002 2020-01-01                4  2905.04\n",
       "8838             54679      54679002 2020-01-02                3  1707.36\n",
       "8839             73039      73039002 2020-01-02                6  3478.62\n",
       "8840             74404      74404002 2020-01-02                1   412.34\n",
       "8841             75584      75584002 2020-01-02                4  2454.16\n",
       "...                ...           ...        ...              ...      ...\n",
       "11822           107809     107809002 2020-12-30                5  1528.15\n",
       "11823           108254     108254002 2020-12-30                6  2297.64\n",
       "11824           111094     111094002 2020-12-30                2   332.28\n",
       "11825            69639      69639002 2020-12-31                5  2512.55\n",
       "11826           104249     104249002 2020-12-31                4  1490.68\n",
       "\n",
       "[2990 rows x 5 columns]"
      ]
     },
     "metadata": {},
     "output_type": "display_data"
    },
    {
     "data": {
      "text/html": [
       "<div>\n",
       "<style scoped>\n",
       "    .dataframe tbody tr th:only-of-type {\n",
       "        vertical-align: middle;\n",
       "    }\n",
       "\n",
       "    .dataframe tbody tr th {\n",
       "        vertical-align: top;\n",
       "    }\n",
       "\n",
       "    .dataframe thead th {\n",
       "        text-align: right;\n",
       "    }\n",
       "</style>\n",
       "<table border=\"1\" class=\"dataframe\">\n",
       "  <thead>\n",
       "    <tr style=\"text-align: right;\">\n",
       "      <th></th>\n",
       "      <th>customer_number</th>\n",
       "      <th>order_number</th>\n",
       "      <th>date</th>\n",
       "      <th>amount_net</th>\n",
       "      <th>amount_gross</th>\n",
       "    </tr>\n",
       "  </thead>\n",
       "  <tbody>\n",
       "    <tr>\n",
       "      <th>8533</th>\n",
       "      <td>60744</td>\n",
       "      <td>60744002</td>\n",
       "      <td>2020-01-01</td>\n",
       "      <td>46.34</td>\n",
       "      <td>53.76</td>\n",
       "    </tr>\n",
       "    <tr>\n",
       "      <th>8534</th>\n",
       "      <td>61544</td>\n",
       "      <td>61544002</td>\n",
       "      <td>2020-01-01</td>\n",
       "      <td>3463.25</td>\n",
       "      <td>4017.37</td>\n",
       "    </tr>\n",
       "    <tr>\n",
       "      <th>8535</th>\n",
       "      <td>65004</td>\n",
       "      <td>65004002</td>\n",
       "      <td>2020-01-01</td>\n",
       "      <td>900.16</td>\n",
       "      <td>1044.18</td>\n",
       "    </tr>\n",
       "    <tr>\n",
       "      <th>8536</th>\n",
       "      <td>90319</td>\n",
       "      <td>90319002</td>\n",
       "      <td>2020-01-01</td>\n",
       "      <td>990.28</td>\n",
       "      <td>1148.72</td>\n",
       "    </tr>\n",
       "    <tr>\n",
       "      <th>8537</th>\n",
       "      <td>94329</td>\n",
       "      <td>94329002</td>\n",
       "      <td>2020-01-01</td>\n",
       "      <td>242.16</td>\n",
       "      <td>280.91</td>\n",
       "    </tr>\n",
       "    <tr>\n",
       "      <th>...</th>\n",
       "      <td>...</td>\n",
       "      <td>...</td>\n",
       "      <td>...</td>\n",
       "      <td>...</td>\n",
       "      <td>...</td>\n",
       "    </tr>\n",
       "    <tr>\n",
       "      <th>11383</th>\n",
       "      <td>62724</td>\n",
       "      <td>62724002</td>\n",
       "      <td>2020-12-20</td>\n",
       "      <td>2789.09</td>\n",
       "      <td>3235.35</td>\n",
       "    </tr>\n",
       "    <tr>\n",
       "      <th>11384</th>\n",
       "      <td>75494</td>\n",
       "      <td>75494002</td>\n",
       "      <td>2020-12-20</td>\n",
       "      <td>1290.82</td>\n",
       "      <td>1497.35</td>\n",
       "    </tr>\n",
       "    <tr>\n",
       "      <th>11385</th>\n",
       "      <td>89514</td>\n",
       "      <td>89514002</td>\n",
       "      <td>2020-12-20</td>\n",
       "      <td>1704.22</td>\n",
       "      <td>1976.90</td>\n",
       "    </tr>\n",
       "    <tr>\n",
       "      <th>11386</th>\n",
       "      <td>98054</td>\n",
       "      <td>98054002</td>\n",
       "      <td>2020-12-20</td>\n",
       "      <td>3204.48</td>\n",
       "      <td>3717.20</td>\n",
       "    </tr>\n",
       "    <tr>\n",
       "      <th>11387</th>\n",
       "      <td>103044</td>\n",
       "      <td>103044002</td>\n",
       "      <td>2020-12-20</td>\n",
       "      <td>1635.80</td>\n",
       "      <td>1897.53</td>\n",
       "    </tr>\n",
       "  </tbody>\n",
       "</table>\n",
       "<p>2855 rows × 5 columns</p>\n",
       "</div>"
      ],
      "text/plain": [
       "       customer_number  order_number       date  amount_net  amount_gross\n",
       "8533             60744      60744002 2020-01-01       46.34         53.76\n",
       "8534             61544      61544002 2020-01-01     3463.25       4017.37\n",
       "8535             65004      65004002 2020-01-01      900.16       1044.18\n",
       "8536             90319      90319002 2020-01-01      990.28       1148.72\n",
       "8537             94329      94329002 2020-01-01      242.16        280.91\n",
       "...                ...           ...        ...         ...           ...\n",
       "11383            62724      62724002 2020-12-20     2789.09       3235.35\n",
       "11384            75494      75494002 2020-12-20     1290.82       1497.35\n",
       "11385            89514      89514002 2020-12-20     1704.22       1976.90\n",
       "11386            98054      98054002 2020-12-20     3204.48       3717.20\n",
       "11387           103044     103044002 2020-12-20     1635.80       1897.53\n",
       "\n",
       "[2855 rows x 5 columns]"
      ]
     },
     "metadata": {},
     "output_type": "display_data"
    }
   ],
   "source": [
    "# Vizualize them\n",
    "\n",
    "order_2020 = df_task2.get_group(2020)\n",
    "rev_2020 = df_task1.get_group(2020)\n",
    "display(order_2020, rev_2020)"
   ]
  },
  {
   "cell_type": "code",
   "execution_count": 66,
   "id": "e89dea12",
   "metadata": {},
   "outputs": [
    {
     "data": {
      "text/html": [
       "<div>\n",
       "<style scoped>\n",
       "    .dataframe tbody tr th:only-of-type {\n",
       "        vertical-align: middle;\n",
       "    }\n",
       "\n",
       "    .dataframe tbody tr th {\n",
       "        vertical-align: top;\n",
       "    }\n",
       "\n",
       "    .dataframe thead th {\n",
       "        text-align: right;\n",
       "    }\n",
       "</style>\n",
       "<table border=\"1\" class=\"dataframe\">\n",
       "  <thead>\n",
       "    <tr style=\"text-align: right;\">\n",
       "      <th></th>\n",
       "      <th>customer_number_x</th>\n",
       "      <th>order_number</th>\n",
       "      <th>date_x</th>\n",
       "      <th>amount_net</th>\n",
       "      <th>amount_gross</th>\n",
       "      <th>customer_number_y</th>\n",
       "      <th>date_y</th>\n",
       "      <th>number_of_items</th>\n",
       "      <th>total</th>\n",
       "    </tr>\n",
       "  </thead>\n",
       "  <tbody>\n",
       "    <tr>\n",
       "      <th>0</th>\n",
       "      <td>82134</td>\n",
       "      <td>82134002</td>\n",
       "      <td>2020-01-06</td>\n",
       "      <td>85.50</td>\n",
       "      <td>99.18</td>\n",
       "      <td>82134</td>\n",
       "      <td>2020-01-04</td>\n",
       "      <td>6</td>\n",
       "      <td>99.18</td>\n",
       "    </tr>\n",
       "    <tr>\n",
       "      <th>1</th>\n",
       "      <td>86774</td>\n",
       "      <td>86774002</td>\n",
       "      <td>2020-01-06</td>\n",
       "      <td>715.22</td>\n",
       "      <td>829.65</td>\n",
       "      <td>86774</td>\n",
       "      <td>2020-01-03</td>\n",
       "      <td>5</td>\n",
       "      <td>829.65</td>\n",
       "    </tr>\n",
       "    <tr>\n",
       "      <th>2</th>\n",
       "      <td>105889</td>\n",
       "      <td>105889002</td>\n",
       "      <td>2020-01-10</td>\n",
       "      <td>2227.52</td>\n",
       "      <td>2583.92</td>\n",
       "      <td>105889</td>\n",
       "      <td>2020-01-03</td>\n",
       "      <td>4</td>\n",
       "      <td>2583.92</td>\n",
       "    </tr>\n",
       "    <tr>\n",
       "      <th>3</th>\n",
       "      <td>83189</td>\n",
       "      <td>83189002</td>\n",
       "      <td>2020-01-12</td>\n",
       "      <td>2090.72</td>\n",
       "      <td>2425.24</td>\n",
       "      <td>83189</td>\n",
       "      <td>2020-01-08</td>\n",
       "      <td>4</td>\n",
       "      <td>2425.24</td>\n",
       "    </tr>\n",
       "    <tr>\n",
       "      <th>4</th>\n",
       "      <td>84529</td>\n",
       "      <td>84529002</td>\n",
       "      <td>2020-01-13</td>\n",
       "      <td>500.59</td>\n",
       "      <td>580.68</td>\n",
       "      <td>84529</td>\n",
       "      <td>2020-01-03</td>\n",
       "      <td>4</td>\n",
       "      <td>580.68</td>\n",
       "    </tr>\n",
       "    <tr>\n",
       "      <th>...</th>\n",
       "      <td>...</td>\n",
       "      <td>...</td>\n",
       "      <td>...</td>\n",
       "      <td>...</td>\n",
       "      <td>...</td>\n",
       "      <td>...</td>\n",
       "      <td>...</td>\n",
       "      <td>...</td>\n",
       "      <td>...</td>\n",
       "    </tr>\n",
       "    <tr>\n",
       "      <th>2546</th>\n",
       "      <td>62724</td>\n",
       "      <td>62724002</td>\n",
       "      <td>2020-12-20</td>\n",
       "      <td>2789.09</td>\n",
       "      <td>3235.35</td>\n",
       "      <td>62724</td>\n",
       "      <td>2020-11-23</td>\n",
       "      <td>5</td>\n",
       "      <td>3235.35</td>\n",
       "    </tr>\n",
       "    <tr>\n",
       "      <th>2547</th>\n",
       "      <td>75494</td>\n",
       "      <td>75494002</td>\n",
       "      <td>2020-12-20</td>\n",
       "      <td>1290.82</td>\n",
       "      <td>1497.35</td>\n",
       "      <td>75494</td>\n",
       "      <td>2020-10-15</td>\n",
       "      <td>5</td>\n",
       "      <td>1497.35</td>\n",
       "    </tr>\n",
       "    <tr>\n",
       "      <th>2548</th>\n",
       "      <td>89514</td>\n",
       "      <td>89514002</td>\n",
       "      <td>2020-12-20</td>\n",
       "      <td>1704.22</td>\n",
       "      <td>1976.90</td>\n",
       "      <td>89514</td>\n",
       "      <td>2020-10-16</td>\n",
       "      <td>5</td>\n",
       "      <td>1976.90</td>\n",
       "    </tr>\n",
       "    <tr>\n",
       "      <th>2549</th>\n",
       "      <td>98054</td>\n",
       "      <td>98054002</td>\n",
       "      <td>2020-12-20</td>\n",
       "      <td>3204.48</td>\n",
       "      <td>3717.20</td>\n",
       "      <td>98054</td>\n",
       "      <td>2020-10-16</td>\n",
       "      <td>5</td>\n",
       "      <td>3717.20</td>\n",
       "    </tr>\n",
       "    <tr>\n",
       "      <th>2550</th>\n",
       "      <td>103044</td>\n",
       "      <td>103044002</td>\n",
       "      <td>2020-12-20</td>\n",
       "      <td>1635.80</td>\n",
       "      <td>1897.53</td>\n",
       "      <td>103044</td>\n",
       "      <td>2020-10-28</td>\n",
       "      <td>3</td>\n",
       "      <td>1897.53</td>\n",
       "    </tr>\n",
       "  </tbody>\n",
       "</table>\n",
       "<p>2551 rows × 9 columns</p>\n",
       "</div>"
      ],
      "text/plain": [
       "      customer_number_x  order_number     date_x  amount_net  amount_gross  \\\n",
       "0                 82134      82134002 2020-01-06       85.50         99.18   \n",
       "1                 86774      86774002 2020-01-06      715.22        829.65   \n",
       "2                105889     105889002 2020-01-10     2227.52       2583.92   \n",
       "3                 83189      83189002 2020-01-12     2090.72       2425.24   \n",
       "4                 84529      84529002 2020-01-13      500.59        580.68   \n",
       "...                 ...           ...        ...         ...           ...   \n",
       "2546              62724      62724002 2020-12-20     2789.09       3235.35   \n",
       "2547              75494      75494002 2020-12-20     1290.82       1497.35   \n",
       "2548              89514      89514002 2020-12-20     1704.22       1976.90   \n",
       "2549              98054      98054002 2020-12-20     3204.48       3717.20   \n",
       "2550             103044     103044002 2020-12-20     1635.80       1897.53   \n",
       "\n",
       "      customer_number_y     date_y  number_of_items    total  \n",
       "0                 82134 2020-01-04                6    99.18  \n",
       "1                 86774 2020-01-03                5   829.65  \n",
       "2                105889 2020-01-03                4  2583.92  \n",
       "3                 83189 2020-01-08                4  2425.24  \n",
       "4                 84529 2020-01-03                4   580.68  \n",
       "...                 ...        ...              ...      ...  \n",
       "2546              62724 2020-11-23                5  3235.35  \n",
       "2547              75494 2020-10-15                5  1497.35  \n",
       "2548              89514 2020-10-16                5  1976.90  \n",
       "2549              98054 2020-10-16                5  3717.20  \n",
       "2550             103044 2020-10-28                3  1897.53  \n",
       "\n",
       "[2551 rows x 9 columns]"
      ]
     },
     "execution_count": 66,
     "metadata": {},
     "output_type": "execute_result"
    }
   ],
   "source": [
    "# Merging values\n",
    "\n",
    "invoiced_orders = pd.merge(rev_2020, order_2020, on='order_number')\n",
    "invoiced_orders"
   ]
  },
  {
   "cell_type": "markdown",
   "id": "65cd1f3e",
   "metadata": {},
   "source": [
    "Making sure the data is clean and answer is correct."
   ]
  },
  {
   "cell_type": "code",
   "execution_count": 61,
   "id": "49766ff1",
   "metadata": {},
   "outputs": [
    {
     "data": {
      "text/plain": [
       "'Null values:'"
      ]
     },
     "metadata": {},
     "output_type": "display_data"
    },
    {
     "data": {
      "text/plain": [
       "customer_number_x    0\n",
       "order_number         0\n",
       "date_x               0\n",
       "amount_net           0\n",
       "amount_gross         0\n",
       "customer_number_y    0\n",
       "date_y               0\n",
       "number_of_items      0\n",
       "total                0\n",
       "dtype: int64"
      ]
     },
     "metadata": {},
     "output_type": "display_data"
    },
    {
     "data": {
      "text/plain": [
       "'Duplicates:'"
      ]
     },
     "metadata": {},
     "output_type": "display_data"
    },
    {
     "data": {
      "text/plain": [
       "np.int64(0)"
      ]
     },
     "metadata": {},
     "output_type": "display_data"
    }
   ],
   "source": [
    "display('Null values:', invoiced_orders.isna().sum(), 'Duplicates:', invoiced_orders.duplicated().sum())"
   ]
  },
  {
   "cell_type": "code",
   "execution_count": 62,
   "id": "06833731",
   "metadata": {},
   "outputs": [
    {
     "name": "stdout",
     "output_type": "stream",
     "text": [
      "Total invoiced orders in 2020 is 2551\n"
     ]
    }
   ],
   "source": [
    "# Answering printed out\n",
    "\n",
    "print(f'Total invoiced orders in 2020 is {invoiced_orders.order_number.count()}')"
   ]
  },
  {
   "cell_type": "markdown",
   "id": "8320906b",
   "metadata": {},
   "source": [
    "To state it out: Total invoiced orders in 2020 is 2551."
   ]
  },
  {
   "cell_type": "markdown",
   "id": "c232adae",
   "metadata": {},
   "source": [
    "##### Task 3: How many individual products have we shipped that have not been invoiced?\n",
    "\n",
    "Lets filter the orders not invoiced and sum the number of items."
   ]
  },
  {
   "cell_type": "code",
   "execution_count": 77,
   "id": "946ef59f",
   "metadata": {},
   "outputs": [
    {
     "data": {
      "text/html": [
       "<div>\n",
       "<style scoped>\n",
       "    .dataframe tbody tr th:only-of-type {\n",
       "        vertical-align: middle;\n",
       "    }\n",
       "\n",
       "    .dataframe tbody tr th {\n",
       "        vertical-align: top;\n",
       "    }\n",
       "\n",
       "    .dataframe thead th {\n",
       "        text-align: right;\n",
       "    }\n",
       "</style>\n",
       "<table border=\"1\" class=\"dataframe\">\n",
       "  <thead>\n",
       "    <tr style=\"text-align: right;\">\n",
       "      <th></th>\n",
       "      <th>customer_number</th>\n",
       "      <th>order_number</th>\n",
       "      <th>date</th>\n",
       "      <th>number_of_items</th>\n",
       "      <th>total</th>\n",
       "    </tr>\n",
       "  </thead>\n",
       "  <tbody>\n",
       "    <tr>\n",
       "      <th>11208</th>\n",
       "      <td>75974</td>\n",
       "      <td>75974002</td>\n",
       "      <td>2020-10-19</td>\n",
       "      <td>3</td>\n",
       "      <td>1046.46</td>\n",
       "    </tr>\n",
       "    <tr>\n",
       "      <th>11215</th>\n",
       "      <td>58389</td>\n",
       "      <td>58389002</td>\n",
       "      <td>2020-10-20</td>\n",
       "      <td>7</td>\n",
       "      <td>3889.48</td>\n",
       "    </tr>\n",
       "    <tr>\n",
       "      <th>11216</th>\n",
       "      <td>66764</td>\n",
       "      <td>66764002</td>\n",
       "      <td>2020-10-20</td>\n",
       "      <td>5</td>\n",
       "      <td>3573.70</td>\n",
       "    </tr>\n",
       "    <tr>\n",
       "      <th>11228</th>\n",
       "      <td>106584</td>\n",
       "      <td>106584002</td>\n",
       "      <td>2020-10-21</td>\n",
       "      <td>1</td>\n",
       "      <td>336.34</td>\n",
       "    </tr>\n",
       "    <tr>\n",
       "      <th>11230</th>\n",
       "      <td>82224</td>\n",
       "      <td>82224002</td>\n",
       "      <td>2020-10-22</td>\n",
       "      <td>2</td>\n",
       "      <td>575.62</td>\n",
       "    </tr>\n",
       "    <tr>\n",
       "      <th>...</th>\n",
       "      <td>...</td>\n",
       "      <td>...</td>\n",
       "      <td>...</td>\n",
       "      <td>...</td>\n",
       "      <td>...</td>\n",
       "    </tr>\n",
       "    <tr>\n",
       "      <th>11822</th>\n",
       "      <td>107809</td>\n",
       "      <td>107809002</td>\n",
       "      <td>2020-12-30</td>\n",
       "      <td>5</td>\n",
       "      <td>1528.15</td>\n",
       "    </tr>\n",
       "    <tr>\n",
       "      <th>11823</th>\n",
       "      <td>108254</td>\n",
       "      <td>108254002</td>\n",
       "      <td>2020-12-30</td>\n",
       "      <td>6</td>\n",
       "      <td>2297.64</td>\n",
       "    </tr>\n",
       "    <tr>\n",
       "      <th>11824</th>\n",
       "      <td>111094</td>\n",
       "      <td>111094002</td>\n",
       "      <td>2020-12-30</td>\n",
       "      <td>2</td>\n",
       "      <td>332.28</td>\n",
       "    </tr>\n",
       "    <tr>\n",
       "      <th>11825</th>\n",
       "      <td>69639</td>\n",
       "      <td>69639002</td>\n",
       "      <td>2020-12-31</td>\n",
       "      <td>5</td>\n",
       "      <td>2512.55</td>\n",
       "    </tr>\n",
       "    <tr>\n",
       "      <th>11826</th>\n",
       "      <td>104249</td>\n",
       "      <td>104249002</td>\n",
       "      <td>2020-12-31</td>\n",
       "      <td>4</td>\n",
       "      <td>1490.68</td>\n",
       "    </tr>\n",
       "  </tbody>\n",
       "</table>\n",
       "<p>439 rows × 5 columns</p>\n",
       "</div>"
      ],
      "text/plain": [
       "       customer_number  order_number       date  number_of_items    total\n",
       "11208            75974      75974002 2020-10-19                3  1046.46\n",
       "11215            58389      58389002 2020-10-20                7  3889.48\n",
       "11216            66764      66764002 2020-10-20                5  3573.70\n",
       "11228           106584     106584002 2020-10-21                1   336.34\n",
       "11230            82224      82224002 2020-10-22                2   575.62\n",
       "...                ...           ...        ...              ...      ...\n",
       "11822           107809     107809002 2020-12-30                5  1528.15\n",
       "11823           108254     108254002 2020-12-30                6  2297.64\n",
       "11824           111094     111094002 2020-12-30                2   332.28\n",
       "11825            69639      69639002 2020-12-31                5  2512.55\n",
       "11826           104249     104249002 2020-12-31                4  1490.68\n",
       "\n",
       "[439 rows x 5 columns]"
      ]
     },
     "execution_count": 77,
     "metadata": {},
     "output_type": "execute_result"
    }
   ],
   "source": [
    "# Filtering the orders numbers the is not in the invoiced orders.\n",
    "\n",
    "df_task3 = order_2020[~order_2020['order_number'].isin(invoiced_orders['order_number'].unique())]\n",
    "df_task3"
   ]
  },
  {
   "cell_type": "markdown",
   "id": "2c98b569",
   "metadata": {},
   "source": [
    "Again is better to make sure the data is clean with the right types after a manipulation."
   ]
  },
  {
   "cell_type": "code",
   "execution_count": 81,
   "id": "466ee67d",
   "metadata": {},
   "outputs": [
    {
     "data": {
      "text/plain": [
       "'Null values:'"
      ]
     },
     "metadata": {},
     "output_type": "display_data"
    },
    {
     "data": {
      "text/plain": [
       "customer_number    0\n",
       "order_number       0\n",
       "date               0\n",
       "number_of_items    0\n",
       "total              0\n",
       "dtype: int64"
      ]
     },
     "metadata": {},
     "output_type": "display_data"
    },
    {
     "data": {
      "text/plain": [
       "'Duplicates:'"
      ]
     },
     "metadata": {},
     "output_type": "display_data"
    },
    {
     "data": {
      "text/plain": [
       "np.int64(0)"
      ]
     },
     "metadata": {},
     "output_type": "display_data"
    },
    {
     "data": {
      "text/plain": [
       "'See data types to sum items:'"
      ]
     },
     "metadata": {},
     "output_type": "display_data"
    },
    {
     "data": {
      "text/plain": [
       "customer_number             int64\n",
       "order_number                int64\n",
       "date               datetime64[ns]\n",
       "number_of_items             int64\n",
       "total                     float64\n",
       "dtype: object"
      ]
     },
     "metadata": {},
     "output_type": "display_data"
    }
   ],
   "source": [
    "display('Null values:', df_task3.isna().sum(), 'Duplicates:', df_task3.duplicated().sum(), 'See data types to sum items:', df_task3.dtypes)"
   ]
  },
  {
   "cell_type": "code",
   "execution_count": 79,
   "id": "a7127382",
   "metadata": {},
   "outputs": [
    {
     "name": "stdout",
     "output_type": "stream",
     "text": [
      "The total products that were ordered who was not invoiced is: 1834.\n"
     ]
    }
   ],
   "source": [
    "# Adding up all items on the filtered data\n",
    "\n",
    "print(f'The total products that were ordered who was not invoiced is: {df_task3.number_of_items.sum()}.')"
   ]
  },
  {
   "cell_type": "markdown",
   "id": "e2c4f137",
   "metadata": {},
   "source": [
    "To state out. The total products that were ordered who was not invoiced is: 1834."
   ]
  },
  {
   "cell_type": "markdown",
   "id": "e93bed63",
   "metadata": {},
   "source": [
    "##### Task 4: How many orders have we not yet shipped?\n",
    "\n",
    "I am assuming that is the products that are being refered to, since the task 2 already covers the orders not skipped, that means invoiced."
   ]
  },
  {
   "cell_type": "code",
   "execution_count": null,
   "id": "c22c4f66",
   "metadata": {},
   "outputs": [
    {
     "data": {
      "text/html": [
       "<div>\n",
       "<style scoped>\n",
       "    .dataframe tbody tr th:only-of-type {\n",
       "        vertical-align: middle;\n",
       "    }\n",
       "\n",
       "    .dataframe tbody tr th {\n",
       "        vertical-align: top;\n",
       "    }\n",
       "\n",
       "    .dataframe thead th {\n",
       "        text-align: right;\n",
       "    }\n",
       "</style>\n",
       "<table border=\"1\" class=\"dataframe\">\n",
       "  <thead>\n",
       "    <tr style=\"text-align: right;\">\n",
       "      <th></th>\n",
       "      <th>customer_number</th>\n",
       "      <th>order_number</th>\n",
       "      <th>date</th>\n",
       "      <th>number_of_items</th>\n",
       "      <th>total</th>\n",
       "    </tr>\n",
       "  </thead>\n",
       "  <tbody>\n",
       "    <tr>\n",
       "      <th>8837</th>\n",
       "      <td>84219</td>\n",
       "      <td>84219002</td>\n",
       "      <td>2020-01-01</td>\n",
       "      <td>4</td>\n",
       "      <td>2905.04</td>\n",
       "    </tr>\n",
       "    <tr>\n",
       "      <th>8838</th>\n",
       "      <td>54679</td>\n",
       "      <td>54679002</td>\n",
       "      <td>2020-01-02</td>\n",
       "      <td>3</td>\n",
       "      <td>1707.36</td>\n",
       "    </tr>\n",
       "    <tr>\n",
       "      <th>8839</th>\n",
       "      <td>73039</td>\n",
       "      <td>73039002</td>\n",
       "      <td>2020-01-02</td>\n",
       "      <td>6</td>\n",
       "      <td>3478.62</td>\n",
       "    </tr>\n",
       "    <tr>\n",
       "      <th>8840</th>\n",
       "      <td>74404</td>\n",
       "      <td>74404002</td>\n",
       "      <td>2020-01-02</td>\n",
       "      <td>1</td>\n",
       "      <td>412.34</td>\n",
       "    </tr>\n",
       "    <tr>\n",
       "      <th>8841</th>\n",
       "      <td>75584</td>\n",
       "      <td>75584002</td>\n",
       "      <td>2020-01-02</td>\n",
       "      <td>4</td>\n",
       "      <td>2454.16</td>\n",
       "    </tr>\n",
       "    <tr>\n",
       "      <th>...</th>\n",
       "      <td>...</td>\n",
       "      <td>...</td>\n",
       "      <td>...</td>\n",
       "      <td>...</td>\n",
       "      <td>...</td>\n",
       "    </tr>\n",
       "    <tr>\n",
       "      <th>11626</th>\n",
       "      <td>100534</td>\n",
       "      <td>100534002</td>\n",
       "      <td>2020-12-07</td>\n",
       "      <td>2</td>\n",
       "      <td>510.14</td>\n",
       "    </tr>\n",
       "    <tr>\n",
       "      <th>11633</th>\n",
       "      <td>86644</td>\n",
       "      <td>86644002</td>\n",
       "      <td>2020-12-08</td>\n",
       "      <td>5</td>\n",
       "      <td>2238.90</td>\n",
       "    </tr>\n",
       "    <tr>\n",
       "      <th>11639</th>\n",
       "      <td>67909</td>\n",
       "      <td>67909002</td>\n",
       "      <td>2020-12-09</td>\n",
       "      <td>4</td>\n",
       "      <td>1444.36</td>\n",
       "    </tr>\n",
       "    <tr>\n",
       "      <th>11644</th>\n",
       "      <td>110834</td>\n",
       "      <td>110834002</td>\n",
       "      <td>2020-12-09</td>\n",
       "      <td>2</td>\n",
       "      <td>1320.88</td>\n",
       "    </tr>\n",
       "    <tr>\n",
       "      <th>11651</th>\n",
       "      <td>99364</td>\n",
       "      <td>99364002</td>\n",
       "      <td>2020-12-10</td>\n",
       "      <td>3</td>\n",
       "      <td>1618.35</td>\n",
       "    </tr>\n",
       "  </tbody>\n",
       "</table>\n",
       "<p>2551 rows × 5 columns</p>\n",
       "</div>"
      ],
      "text/plain": [
       "       customer_number  order_number       date  number_of_items    total\n",
       "8837             84219      84219002 2020-01-01                4  2905.04\n",
       "8838             54679      54679002 2020-01-02                3  1707.36\n",
       "8839             73039      73039002 2020-01-02                6  3478.62\n",
       "8840             74404      74404002 2020-01-02                1   412.34\n",
       "8841             75584      75584002 2020-01-02                4  2454.16\n",
       "...                ...           ...        ...              ...      ...\n",
       "11626           100534     100534002 2020-12-07                2   510.14\n",
       "11633            86644      86644002 2020-12-08                5  2238.90\n",
       "11639            67909      67909002 2020-12-09                4  1444.36\n",
       "11644           110834     110834002 2020-12-09                2  1320.88\n",
       "11651            99364      99364002 2020-12-10                3  1618.35\n",
       "\n",
       "[2551 rows x 5 columns]"
      ]
     },
     "execution_count": 82,
     "metadata": {},
     "output_type": "execute_result"
    }
   ],
   "source": [
    "# Geting the orders df since the invoiced_orders has collumns related to invoice\n",
    "\n",
    "df_task4 = order_2020[order_2020['order_number'].isin(invoiced_orders['order_number'].unique())]\n",
    "df_task4"
   ]
  },
  {
   "cell_type": "markdown",
   "id": "36495588",
   "metadata": {},
   "source": [
    "Again is better to make sure the data is clean with the right types after a manipulation."
   ]
  },
  {
   "cell_type": "code",
   "execution_count": 107,
   "id": "8bcdb8c0",
   "metadata": {},
   "outputs": [
    {
     "data": {
      "text/plain": [
       "'Null values:'"
      ]
     },
     "metadata": {},
     "output_type": "display_data"
    },
    {
     "data": {
      "text/plain": [
       "customer_number    0\n",
       "order_number       0\n",
       "date               0\n",
       "number_of_items    0\n",
       "total              0\n",
       "dtype: int64"
      ]
     },
     "metadata": {},
     "output_type": "display_data"
    },
    {
     "data": {
      "text/plain": [
       "'Duplicates:'"
      ]
     },
     "metadata": {},
     "output_type": "display_data"
    },
    {
     "data": {
      "text/plain": [
       "np.int64(0)"
      ]
     },
     "metadata": {},
     "output_type": "display_data"
    },
    {
     "data": {
      "text/plain": [
       "'See data types to sum items:'"
      ]
     },
     "metadata": {},
     "output_type": "display_data"
    },
    {
     "data": {
      "text/plain": [
       "customer_number             int64\n",
       "order_number                int64\n",
       "date               datetime64[ns]\n",
       "number_of_items             int64\n",
       "total                     float64\n",
       "dtype: object"
      ]
     },
     "metadata": {},
     "output_type": "display_data"
    }
   ],
   "source": [
    "\n",
    "display('Null values:', df_task4.isna().sum(), 'Duplicates:', df_task4.duplicated().sum(), 'See data types to sum items:', df_task4.dtypes)\n"
   ]
  },
  {
   "cell_type": "code",
   "execution_count": 84,
   "id": "55562723",
   "metadata": {},
   "outputs": [
    {
     "name": "stdout",
     "output_type": "stream",
     "text": [
      "The total products out of the 2551 orders not skipped, who was invoiced is: 10178.\n"
     ]
    }
   ],
   "source": [
    "# Adding up all items on the filtered data\n",
    "\n",
    "print(f'The total products out of the {df_task4.number_of_items.count()} orders not skipped, who was invoiced is: {df_task4.number_of_items.sum()}.')"
   ]
  },
  {
   "cell_type": "markdown",
   "id": "f8465500",
   "metadata": {},
   "source": [
    "To state out. The total products out of the 2551 orders not skipped, who was invoiced is: 10178."
   ]
  },
  {
   "cell_type": "markdown",
   "id": "7c9b2f81",
   "metadata": {},
   "source": [
    "##### Bonus Task: What was the net sales from June & August 2020 that were invoiced in the following months?\n",
    "\n",
    "It needs to have to different filters on that verify the June order date and look at greater than June invoicing and one for August with the same logic, so the values in between does not get filter out."
   ]
  },
  {
   "cell_type": "code",
   "execution_count": 106,
   "id": "da017070",
   "metadata": {},
   "outputs": [
    {
     "data": {
      "text/html": [
       "<div>\n",
       "<style scoped>\n",
       "    .dataframe tbody tr th:only-of-type {\n",
       "        vertical-align: middle;\n",
       "    }\n",
       "\n",
       "    .dataframe tbody tr th {\n",
       "        vertical-align: top;\n",
       "    }\n",
       "\n",
       "    .dataframe thead th {\n",
       "        text-align: right;\n",
       "    }\n",
       "</style>\n",
       "<table border=\"1\" class=\"dataframe\">\n",
       "  <thead>\n",
       "    <tr style=\"text-align: right;\">\n",
       "      <th></th>\n",
       "      <th>customer_number_x</th>\n",
       "      <th>order_number</th>\n",
       "      <th>date_x</th>\n",
       "      <th>amount_net</th>\n",
       "      <th>amount_gross</th>\n",
       "      <th>customer_number_y</th>\n",
       "      <th>date_y</th>\n",
       "      <th>number_of_items</th>\n",
       "      <th>total</th>\n",
       "    </tr>\n",
       "  </thead>\n",
       "  <tbody>\n",
       "    <tr>\n",
       "      <th>1180</th>\n",
       "      <td>79574</td>\n",
       "      <td>79574002</td>\n",
       "      <td>2020-07-01</td>\n",
       "      <td>1328.31</td>\n",
       "      <td>1540.84</td>\n",
       "      <td>79574</td>\n",
       "      <td>2020-06-29</td>\n",
       "      <td>7</td>\n",
       "      <td>1540.84</td>\n",
       "    </tr>\n",
       "    <tr>\n",
       "      <th>1183</th>\n",
       "      <td>101649</td>\n",
       "      <td>101649002</td>\n",
       "      <td>2020-07-01</td>\n",
       "      <td>339.86</td>\n",
       "      <td>394.24</td>\n",
       "      <td>101649</td>\n",
       "      <td>2020-06-19</td>\n",
       "      <td>4</td>\n",
       "      <td>394.24</td>\n",
       "    </tr>\n",
       "    <tr>\n",
       "      <th>1184</th>\n",
       "      <td>66059</td>\n",
       "      <td>66059002</td>\n",
       "      <td>2020-07-02</td>\n",
       "      <td>3529.19</td>\n",
       "      <td>4093.86</td>\n",
       "      <td>66059</td>\n",
       "      <td>2020-06-29</td>\n",
       "      <td>6</td>\n",
       "      <td>4093.86</td>\n",
       "    </tr>\n",
       "    <tr>\n",
       "      <th>1191</th>\n",
       "      <td>68044</td>\n",
       "      <td>68044002</td>\n",
       "      <td>2020-07-03</td>\n",
       "      <td>2723.66</td>\n",
       "      <td>3159.45</td>\n",
       "      <td>68044</td>\n",
       "      <td>2020-06-06</td>\n",
       "      <td>7</td>\n",
       "      <td>3159.45</td>\n",
       "    </tr>\n",
       "    <tr>\n",
       "      <th>1200</th>\n",
       "      <td>82459</td>\n",
       "      <td>82459002</td>\n",
       "      <td>2020-07-04</td>\n",
       "      <td>1779.59</td>\n",
       "      <td>2064.33</td>\n",
       "      <td>82459</td>\n",
       "      <td>2020-06-09</td>\n",
       "      <td>3</td>\n",
       "      <td>2064.33</td>\n",
       "    </tr>\n",
       "    <tr>\n",
       "      <th>...</th>\n",
       "      <td>...</td>\n",
       "      <td>...</td>\n",
       "      <td>...</td>\n",
       "      <td>...</td>\n",
       "      <td>...</td>\n",
       "      <td>...</td>\n",
       "      <td>...</td>\n",
       "      <td>...</td>\n",
       "      <td>...</td>\n",
       "    </tr>\n",
       "    <tr>\n",
       "      <th>2150</th>\n",
       "      <td>55854</td>\n",
       "      <td>55854002</td>\n",
       "      <td>2020-11-03</td>\n",
       "      <td>1899.47</td>\n",
       "      <td>2203.38</td>\n",
       "      <td>55854</td>\n",
       "      <td>2020-08-29</td>\n",
       "      <td>6</td>\n",
       "      <td>2203.38</td>\n",
       "    </tr>\n",
       "    <tr>\n",
       "      <th>2167</th>\n",
       "      <td>85999</td>\n",
       "      <td>85999002</td>\n",
       "      <td>2020-11-05</td>\n",
       "      <td>934.03</td>\n",
       "      <td>1083.48</td>\n",
       "      <td>85999</td>\n",
       "      <td>2020-08-30</td>\n",
       "      <td>6</td>\n",
       "      <td>1083.48</td>\n",
       "    </tr>\n",
       "    <tr>\n",
       "      <th>2168</th>\n",
       "      <td>97534</td>\n",
       "      <td>97534002</td>\n",
       "      <td>2020-11-05</td>\n",
       "      <td>219.21</td>\n",
       "      <td>254.28</td>\n",
       "      <td>97534</td>\n",
       "      <td>2020-08-30</td>\n",
       "      <td>2</td>\n",
       "      <td>254.28</td>\n",
       "    </tr>\n",
       "    <tr>\n",
       "      <th>2172</th>\n",
       "      <td>110189</td>\n",
       "      <td>110189002</td>\n",
       "      <td>2020-11-05</td>\n",
       "      <td>609.41</td>\n",
       "      <td>706.92</td>\n",
       "      <td>110189</td>\n",
       "      <td>2020-08-31</td>\n",
       "      <td>1</td>\n",
       "      <td>706.92</td>\n",
       "    </tr>\n",
       "    <tr>\n",
       "      <th>2178</th>\n",
       "      <td>80924</td>\n",
       "      <td>80924002</td>\n",
       "      <td>2020-11-06</td>\n",
       "      <td>1430.00</td>\n",
       "      <td>1658.80</td>\n",
       "      <td>80924</td>\n",
       "      <td>2020-08-31</td>\n",
       "      <td>4</td>\n",
       "      <td>1658.80</td>\n",
       "    </tr>\n",
       "  </tbody>\n",
       "</table>\n",
       "<p>374 rows × 9 columns</p>\n",
       "</div>"
      ],
      "text/plain": [
       "      customer_number_x  order_number     date_x  amount_net  amount_gross  \\\n",
       "1180              79574      79574002 2020-07-01     1328.31       1540.84   \n",
       "1183             101649     101649002 2020-07-01      339.86        394.24   \n",
       "1184              66059      66059002 2020-07-02     3529.19       4093.86   \n",
       "1191              68044      68044002 2020-07-03     2723.66       3159.45   \n",
       "1200              82459      82459002 2020-07-04     1779.59       2064.33   \n",
       "...                 ...           ...        ...         ...           ...   \n",
       "2150              55854      55854002 2020-11-03     1899.47       2203.38   \n",
       "2167              85999      85999002 2020-11-05      934.03       1083.48   \n",
       "2168              97534      97534002 2020-11-05      219.21        254.28   \n",
       "2172             110189     110189002 2020-11-05      609.41        706.92   \n",
       "2178              80924      80924002 2020-11-06     1430.00       1658.80   \n",
       "\n",
       "      customer_number_y     date_y  number_of_items    total  \n",
       "1180              79574 2020-06-29                7  1540.84  \n",
       "1183             101649 2020-06-19                4   394.24  \n",
       "1184              66059 2020-06-29                6  4093.86  \n",
       "1191              68044 2020-06-06                7  3159.45  \n",
       "1200              82459 2020-06-09                3  2064.33  \n",
       "...                 ...        ...              ...      ...  \n",
       "2150              55854 2020-08-29                6  2203.38  \n",
       "2167              85999 2020-08-30                6  1083.48  \n",
       "2168              97534 2020-08-30                2   254.28  \n",
       "2172             110189 2020-08-31                1   706.92  \n",
       "2178              80924 2020-08-31                4  1658.80  \n",
       "\n",
       "[374 rows x 9 columns]"
      ]
     },
     "execution_count": 106,
     "metadata": {},
     "output_type": "execute_result"
    }
   ],
   "source": [
    "# Quering the right way in sub queries\n",
    "\n",
    "df_task5 = invoiced_orders[((invoiced_orders['date_y'].dt.month == 6) & (invoiced_orders['date_x'].dt.month > 6)) | (invoiced_orders['date_y'].dt.month == 8) & (invoiced_orders['date_x'].dt.month > 8)]\n",
    "df_task5"
   ]
  },
  {
   "cell_type": "markdown",
   "id": "ed9e9f8d",
   "metadata": {},
   "source": [
    "Again is better to make sure the data is clean with the right types after a manipulation.\n"
   ]
  },
  {
   "cell_type": "code",
   "execution_count": 108,
   "id": "0e4e646d",
   "metadata": {},
   "outputs": [
    {
     "data": {
      "text/plain": [
       "'Null values:'"
      ]
     },
     "metadata": {},
     "output_type": "display_data"
    },
    {
     "data": {
      "text/plain": [
       "customer_number_x    0\n",
       "order_number         0\n",
       "date_x               0\n",
       "amount_net           0\n",
       "amount_gross         0\n",
       "customer_number_y    0\n",
       "date_y               0\n",
       "number_of_items      0\n",
       "total                0\n",
       "dtype: int64"
      ]
     },
     "metadata": {},
     "output_type": "display_data"
    },
    {
     "data": {
      "text/plain": [
       "'Duplicates:'"
      ]
     },
     "metadata": {},
     "output_type": "display_data"
    },
    {
     "data": {
      "text/plain": [
       "np.int64(0)"
      ]
     },
     "metadata": {},
     "output_type": "display_data"
    },
    {
     "data": {
      "text/plain": [
       "'See data types to sum items:'"
      ]
     },
     "metadata": {},
     "output_type": "display_data"
    },
    {
     "data": {
      "text/plain": [
       "customer_number_x             int64\n",
       "order_number                  int64\n",
       "date_x               datetime64[ns]\n",
       "amount_net                  float64\n",
       "amount_gross                float64\n",
       "customer_number_y             int64\n",
       "date_y               datetime64[ns]\n",
       "number_of_items               int64\n",
       "total                       float64\n",
       "dtype: object"
      ]
     },
     "metadata": {},
     "output_type": "display_data"
    }
   ],
   "source": [
    "\n",
    "display('Null values:', df_task5.isna().sum(), 'Duplicates:', df_task5.duplicated().sum(), 'See data types to sum items:', df_task5.dtypes)\n"
   ]
  },
  {
   "cell_type": "code",
   "execution_count": 112,
   "id": "cc32da78",
   "metadata": {},
   "outputs": [
    {
     "name": "stdout",
     "output_type": "stream",
     "text": [
      "The total net sales out of the 374 orders in June and August, who was invoiced in the next following months: $509323.53\n"
     ]
    }
   ],
   "source": [
    "# Adding up all items on the filtered data\n",
    "\n",
    "print(f'The total net sales out of the {df_task5.number_of_items.count()} orders in June and August, who was invoiced in the next following months: ${df_task5.amount_net.sum()}')"
   ]
  },
  {
   "cell_type": "markdown",
   "id": "71584923",
   "metadata": {},
   "source": [
    "To state it out. The total net sales out of the 374 orders in June and August, who was invoiced in the next following months: $509323.53"
   ]
  }
 ],
 "metadata": {
  "kernelspec": {
   "display_name": "analysis",
   "language": "python",
   "name": "python3"
  },
  "language_info": {
   "codemirror_mode": {
    "name": "ipython",
    "version": 3
   },
   "file_extension": ".py",
   "mimetype": "text/x-python",
   "name": "python",
   "nbconvert_exporter": "python",
   "pygments_lexer": "ipython3",
   "version": "3.13.1"
  }
 },
 "nbformat": 4,
 "nbformat_minor": 5
}
